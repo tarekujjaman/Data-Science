{
 "cells": [
  {
   "cell_type": "code",
   "execution_count": 169,
   "metadata": {},
   "outputs": [],
   "source": [
    "#We need to Import all necessary libries first\n",
    "#We need the data having at least two columns \n",
    "    # 1. Serial\n",
    "    # 2. Ordered Column in ASC\n",
    "\n",
    "\n",
    "\n",
    "import numpy as np\n",
    "import pandas as pd\n",
    "import seaborn as sns\n",
    "import matplotlib.pyplot as plt\n",
    "import scipy.stats as stats\n",
    "from scipy.special import ndtri"
   ]
  },
  {
   "cell_type": "code",
   "execution_count": 170,
   "metadata": {},
   "outputs": [],
   "source": [
    "df = pd.read_csv(\"univariate_data.csv\")"
   ]
  },
  {
   "cell_type": "code",
   "execution_count": 171,
   "metadata": {},
   "outputs": [
    {
     "data": {
      "text/html": [
       "<div>\n",
       "<style scoped>\n",
       "    .dataframe tbody tr th:only-of-type {\n",
       "        vertical-align: middle;\n",
       "    }\n",
       "\n",
       "    .dataframe tbody tr th {\n",
       "        vertical-align: top;\n",
       "    }\n",
       "\n",
       "    .dataframe thead th {\n",
       "        text-align: right;\n",
       "    }\n",
       "</style>\n",
       "<table border=\"1\" class=\"dataframe\">\n",
       "  <thead>\n",
       "    <tr style=\"text-align: right;\">\n",
       "      <th></th>\n",
       "      <th>Sl</th>\n",
       "      <th>Radiation</th>\n",
       "      <th>Ordered Radiation</th>\n",
       "    </tr>\n",
       "  </thead>\n",
       "  <tbody>\n",
       "    <tr>\n",
       "      <th>0</th>\n",
       "      <td>1</td>\n",
       "      <td>0.15</td>\n",
       "      <td>0.01</td>\n",
       "    </tr>\n",
       "    <tr>\n",
       "      <th>1</th>\n",
       "      <td>2</td>\n",
       "      <td>0.09</td>\n",
       "      <td>0.01</td>\n",
       "    </tr>\n",
       "    <tr>\n",
       "      <th>2</th>\n",
       "      <td>3</td>\n",
       "      <td>0.18</td>\n",
       "      <td>0.02</td>\n",
       "    </tr>\n",
       "    <tr>\n",
       "      <th>3</th>\n",
       "      <td>4</td>\n",
       "      <td>0.10</td>\n",
       "      <td>0.02</td>\n",
       "    </tr>\n",
       "    <tr>\n",
       "      <th>4</th>\n",
       "      <td>5</td>\n",
       "      <td>0.05</td>\n",
       "      <td>0.02</td>\n",
       "    </tr>\n",
       "  </tbody>\n",
       "</table>\n",
       "</div>"
      ],
      "text/plain": [
       "   Sl  Radiation  Ordered Radiation\n",
       "0   1       0.15               0.01\n",
       "1   2       0.09               0.01\n",
       "2   3       0.18               0.02\n",
       "3   4       0.10               0.02\n",
       "4   5       0.05               0.02"
      ]
     },
     "execution_count": 171,
     "metadata": {},
     "output_type": "execute_result"
    }
   ],
   "source": [
    "df.head()"
   ]
  },
  {
   "cell_type": "code",
   "execution_count": 172,
   "metadata": {},
   "outputs": [
    {
     "name": "stdout",
     "output_type": "stream",
     "text": [
      "   Sl  Radiation  Ordered Radiation  prob_level\n",
      "0   1       0.15               0.01    0.011905\n",
      "1   2       0.09               0.01    0.035714\n",
      "2   3       0.18               0.02    0.059524\n",
      "3   4       0.10               0.02    0.083333\n",
      "4   5       0.05               0.02    0.107143\n"
     ]
    }
   ],
   "source": [
    "# Adding new column of Probability Level [j - 0.5/n] for every row in the serial column\n",
    "def add(row):\n",
    "   return (row[0]-0.5)/len(df[\"Sl\"])\n",
    "\n",
    "df['prob_level'] = df.apply(add, axis=1)\n",
    "print(df.head())"
   ]
  },
  {
   "cell_type": "code",
   "execution_count": 173,
   "metadata": {},
   "outputs": [
    {
     "data": {
      "text/plain": [
       "0   -1.414214\n",
       "1   -0.707107\n",
       "2    0.000000\n",
       "3    0.707107\n",
       "4    1.414214\n",
       "Name: prob_level, dtype: float64"
      ]
     },
     "execution_count": 173,
     "metadata": {},
     "output_type": "execute_result"
    }
   ],
   "source": [
    "# Getting the Z Score of Prob_Level Column\n",
    "stats.zscore(df[\"prob_level\"].head())"
   ]
  },
  {
   "cell_type": "code",
   "execution_count": 174,
   "metadata": {},
   "outputs": [
    {
     "data": {
      "text/plain": [
       "0   -2.260189\n",
       "1   -1.802743\n",
       "2   -1.558784\n",
       "3   -1.382994\n",
       "4   -1.241867\n",
       "Name: prob_level, dtype: float64"
      ]
     },
     "execution_count": 174,
     "metadata": {},
     "output_type": "execute_result"
    }
   ],
   "source": [
    "# you'll find that the ppf method ultimately calls scipy.special.ndtri. So to compute the inverse of the CDF of the standard normal distribution, you could use that function directly (Standard Normal Quantile):\n",
    "ndtri(df[\"prob_level\"].head())"
   ]
  },
  {
   "cell_type": "code",
   "execution_count": 175,
   "metadata": {},
   "outputs": [],
   "source": [
    "#Adding new column \"Standard Normal Quantile\"\n",
    "df[\"Standard Normal Quantile\"] = ndtri(df[\"prob_level\"])"
   ]
  },
  {
   "cell_type": "code",
   "execution_count": 176,
   "metadata": {},
   "outputs": [
    {
     "data": {
      "text/html": [
       "<div>\n",
       "<style scoped>\n",
       "    .dataframe tbody tr th:only-of-type {\n",
       "        vertical-align: middle;\n",
       "    }\n",
       "\n",
       "    .dataframe tbody tr th {\n",
       "        vertical-align: top;\n",
       "    }\n",
       "\n",
       "    .dataframe thead th {\n",
       "        text-align: right;\n",
       "    }\n",
       "</style>\n",
       "<table border=\"1\" class=\"dataframe\">\n",
       "  <thead>\n",
       "    <tr style=\"text-align: right;\">\n",
       "      <th></th>\n",
       "      <th>Sl</th>\n",
       "      <th>Radiation</th>\n",
       "      <th>Ordered Radiation</th>\n",
       "      <th>prob_level</th>\n",
       "      <th>Standard Normal Quantile</th>\n",
       "    </tr>\n",
       "  </thead>\n",
       "  <tbody>\n",
       "    <tr>\n",
       "      <th>0</th>\n",
       "      <td>1</td>\n",
       "      <td>0.15</td>\n",
       "      <td>0.01</td>\n",
       "      <td>0.011905</td>\n",
       "      <td>-2.260189</td>\n",
       "    </tr>\n",
       "    <tr>\n",
       "      <th>1</th>\n",
       "      <td>2</td>\n",
       "      <td>0.09</td>\n",
       "      <td>0.01</td>\n",
       "      <td>0.035714</td>\n",
       "      <td>-1.802743</td>\n",
       "    </tr>\n",
       "    <tr>\n",
       "      <th>2</th>\n",
       "      <td>3</td>\n",
       "      <td>0.18</td>\n",
       "      <td>0.02</td>\n",
       "      <td>0.059524</td>\n",
       "      <td>-1.558784</td>\n",
       "    </tr>\n",
       "    <tr>\n",
       "      <th>3</th>\n",
       "      <td>4</td>\n",
       "      <td>0.10</td>\n",
       "      <td>0.02</td>\n",
       "      <td>0.083333</td>\n",
       "      <td>-1.382994</td>\n",
       "    </tr>\n",
       "    <tr>\n",
       "      <th>4</th>\n",
       "      <td>5</td>\n",
       "      <td>0.05</td>\n",
       "      <td>0.02</td>\n",
       "      <td>0.107143</td>\n",
       "      <td>-1.241867</td>\n",
       "    </tr>\n",
       "  </tbody>\n",
       "</table>\n",
       "</div>"
      ],
      "text/plain": [
       "   Sl  Radiation  Ordered Radiation  prob_level  Standard Normal Quantile\n",
       "0   1       0.15               0.01    0.011905                 -2.260189\n",
       "1   2       0.09               0.01    0.035714                 -1.802743\n",
       "2   3       0.18               0.02    0.059524                 -1.558784\n",
       "3   4       0.10               0.02    0.083333                 -1.382994\n",
       "4   5       0.05               0.02    0.107143                 -1.241867"
      ]
     },
     "execution_count": 176,
     "metadata": {},
     "output_type": "execute_result"
    }
   ],
   "source": [
    "df.head()"
   ]
  },
  {
   "cell_type": "code",
   "execution_count": 177,
   "metadata": {},
   "outputs": [
    {
     "data": {
      "text/plain": [
       "0.927904898110128"
      ]
     },
     "execution_count": 177,
     "metadata": {},
     "output_type": "execute_result"
    }
   ],
   "source": [
    "# Calculate the Correlation coefficient value\n",
    "corr = df.corr().loc['Standard Normal Quantile', 'Ordered Radiation']\n",
    "corr_cal"
   ]
  },
  {
   "cell_type": "code",
   "execution_count": 178,
   "metadata": {},
   "outputs": [],
   "source": [
    "# From Critical Points for Q-Q Plot Correlation Coefficient Test for Normality Table\n",
    "# for n = 42, Level of significance = 5%\n",
    "# Link: http://www.dm.unibo.it/~simoncin/QQCritVal.pdf\n",
    "corr_tabulated = 0.9749"
   ]
  },
  {
   "cell_type": "code",
   "execution_count": 179,
   "metadata": {},
   "outputs": [
    {
     "data": {
      "text/plain": [
       "<AxesSubplot:xlabel='Ordered Radiation', ylabel='Standard Normal Quantile'>"
      ]
     },
     "execution_count": 179,
     "metadata": {},
     "output_type": "execute_result"
    },
    {
     "data": {
      "image/png": "[encoded data removed]",
      "text/plain": [
       "<Figure size 640x480 with 1 Axes>"
      ]
     },
     "metadata": {},
     "output_type": "display_data"
    }
   ],
   "source": [
    "# Lets check QQ-Plot or Regression Plot of (Standard Normal Quantile vs Ordered Radiation) [The values must be sorted in Ascending Order]\n",
    "sns.regplot(data = df,x=df[\"Ordered Radiation\"].sort_values(), y=df[\"Standard Normal Quantile\"].sort_values(),ci=None)"
   ]
  },
  {
   "attachments": {},
   "cell_type": "markdown",
   "metadata": {},
   "source": [
    "The angle of the line is not 45 degree and data points are mostly outside the line.\n",
    "Thus, by seeing the plot we can say Data is not normal."
   ]
  },
  {
   "cell_type": "code",
   "execution_count": 180,
   "metadata": {},
   "outputs": [],
   "source": [
    "# Lets test the hypothesis for this procedure\n",
    "H0 = \"Distribution is not normal\"\n",
    "Ha = \"Distribution is normal\""
   ]
  },
  {
   "cell_type": "code",
   "execution_count": 181,
   "metadata": {},
   "outputs": [
    {
     "name": "stdout",
     "output_type": "stream",
     "text": [
      "We can't reject the null hypothesis. Hence Distribution is not normal\n"
     ]
    }
   ],
   "source": [
    "#Let's check our output\n",
    "\n",
    "if corr_cal > corr_tabulated:\n",
    "    print(\"The null hypothesis is rejected. Hence\",Ha)\n",
    "else:\n",
    "    print(\"We can't reject the null hypothesis. Hence\",H0)"
   ]
  }
 ],
 "metadata": {
  "kernelspec": {
   "display_name": "Python 3",
   "language": "python",
   "name": "python3"
  },
  "language_info": {
   "codemirror_mode": {
    "name": "ipython",
    "version": 3
   },
   "file_extension": ".py",
   "mimetype": "text/x-python",
   "name": "python",
   "nbconvert_exporter": "python",
   "pygments_lexer": "ipython3",
   "version": "3.10.6"
  },
  "orig_nbformat": 4,
  "vscode": {
   "interpreter": {
    "hash": "fb4569285eef3a3450cb62085a5b1e0da4bce0af555edc33dcf29baf3acc1368"
   }
  }
 },
 "nbformat": 4,
 "nbformat_minor": 2
}
